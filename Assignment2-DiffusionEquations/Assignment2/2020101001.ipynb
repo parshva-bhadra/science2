{
 "cells": [
  {
   "cell_type": "markdown",
   "metadata": {},
   "source": [
    "#### IMPORTING LIBRARIES"
   ]
  },
  {
   "cell_type": "code",
   "execution_count": 77,
   "metadata": {},
   "outputs": [],
   "source": [
    "from matplotlib import animation as animation\n",
    "from matplotlib import pyplot as plt\n",
    "import numpy as np"
   ]
  },
  {
   "cell_type": "markdown",
   "metadata": {},
   "source": [
    "#### QUESTION 1.1"
   ]
  },
  {
   "cell_type": "markdown",
   "metadata": {},
   "source": [
    "##### 1.1.1 (also in pdf):"
   ]
  },
  {
   "cell_type": "code",
   "execution_count": 78,
   "metadata": {},
   "outputs": [],
   "source": [
    "# this is the same code taught in tutorial. It is a numerical solution of 1D heat diffusion.\n",
    "\n",
    "# initialising the variables and setting the initial condition.\n",
    "\n",
    "L = 0.2\n",
    "n = 20\n",
    "T1 = 60 \n",
    "T2 = 30 \n",
    "alpha = 0.0001 \n",
    "time = 120 \n",
    "dx = L/n\n",
    "dt = 0.1\n",
    "\n",
    "# making the numpy arrays for storing value and plotting graph.\n",
    "\n",
    "x = np.linspace(dx/2, L-dx/2, n)\n",
    "T = np.zeros(n) \n",
    "dTdt = np.empty(n) \n",
    "t = np.arange(0, time, dt)\n",
    "\n",
    "# main code.\n",
    "\n",
    "plt.ion()\n",
    "for j in range(1, len(t)):\n",
    "    for i in range(1, n-1):\n",
    "        dTdt[i] = alpha*(-(T[i]-T[i-1])/dx**2 + (T[i+1]-T[i])/dx**2) \n",
    "    dTdt[0] = alpha*(-(T[0]-T1)/dx**2 + (T[1]-T[0])/dx**2)\n",
    "    dTdt[n-1] = alpha*(-(T[n-1]-T[n-2])/dx**2 + (T2-T[n-1])/dx**2)\n",
    "    T = T + dTdt*dt \n",
    "    plt.figure(1)\n",
    "    plt.plot(x, T)\n",
    "    plt.axis([0, L, 0, 70]) \n",
    "    plt.xlabel('Distance in meters')\n",
    "    plt.ylabel('Temperature in C')\n",
    "    plt.show()\n",
    "    plt.pause(0.0001)\n",
    "    plt.clf()"
   ]
  },
  {
   "cell_type": "markdown",
   "metadata": {},
   "source": [
    "##### 1.1.2 is in pdf.\n",
    "##### 1.1.3:"
   ]
  },
  {
   "cell_type": "code",
   "execution_count": 79,
   "metadata": {},
   "outputs": [],
   "source": [
    "# initialising the variables.\n",
    "\n",
    "pause = 0.01\n",
    "dx = 0.001\n",
    "dt = 0.1\n",
    "n = 65\n",
    "time = 10\n",
    "L = n * dx\n",
    "D = dx**2 / 2 / dt"
   ]
  },
  {
   "cell_type": "code",
   "execution_count": 80,
   "metadata": {},
   "outputs": [],
   "source": [
    "# making numpy arrays to store values and plot graphs\n",
    "\n",
    "x = np.linspace(dx/2, L - dx/2, n)\n",
    "\n",
    "P = np.zeros(n)\n",
    "P[int(n/2)] = 1\n",
    "\n",
    "dPdt = np.zeros(n)\n",
    "\n",
    "taxis = np.arange(0, time, dt)\n",
    "M = np.zeros(len(taxis))\n",
    "MSD = np.zeros(len(taxis))\n",
    "\n",
    "plt.ion()\n",
    "for t in range(len(taxis)):\n",
    "    for i in range(1, n-1):\n",
    "        dPdt[i] = D*(((P[i+1]-P[i])/dx**2) - ((P[i]-P[i-1])/dx**2)) \n",
    "    P = P + dPdt*dt\n",
    "    for i in range(0, n):\n",
    "        M[t] += P[i]*x[i]\n",
    "    for i in range(0, n):\n",
    "        MSD[t] += P[i]*((x[i]-M[t])**2)\n",
    "    plt.figure(1)\n",
    "    plt.plot(x, P)\n",
    "    plt.axis([0, L, 0, 1]) \n",
    "    plt.xlabel('Distance')\n",
    "    plt.ylabel('Probability')\n",
    "    plt.show()\n",
    "    plt.pause(0.01)\n",
    "    plt.clf()"
   ]
  },
  {
   "cell_type": "markdown",
   "metadata": {},
   "source": [
    "##### 1.1.4 Part 1: Mean Displacement"
   ]
  },
  {
   "cell_type": "code",
   "execution_count": 81,
   "metadata": {},
   "outputs": [
    {
     "data": {
      "image/png": "[encoded data removed]",
      "text/plain": [
       "<Figure size 432x288 with 1 Axes>"
      ]
     },
     "metadata": {
      "needs_background": "light"
     },
     "output_type": "display_data"
    }
   ],
   "source": [
    "plt.plot(taxis, M)\n",
    "plt.ylim(0, 0.04)\n",
    "plt.show()"
   ]
  },
  {
   "cell_type": "markdown",
   "metadata": {},
   "source": [
    "##### 1.1.4 Part 2: Mean Square Displacement"
   ]
  },
  {
   "cell_type": "code",
   "execution_count": 82,
   "metadata": {},
   "outputs": [
    {
     "data": {
      "image/png": "[encoded data removed]",
      "text/plain": [
       "<Figure size 432x288 with 1 Axes>"
      ]
     },
     "metadata": {
      "needs_background": "light"
     },
     "output_type": "display_data"
    }
   ],
   "source": [
    "plt.plot(taxis, MSD)\n",
    "plt.show()"
   ]
  },
  {
   "cell_type": "markdown",
   "metadata": {},
   "source": [
    "#### QUESTION 1.2"
   ]
  },
  {
   "cell_type": "markdown",
   "metadata": {},
   "source": [
    "##### 1.2.1, 1.2.2, 1.2.3 are in pdf.\n",
    "##### 1.2.4 (also in pdf) :\n",
    "* In part 1.2.4, I have assumed that when the disc and the metal plate come in contact, their temperature instataneously becomes 500 K."
   ]
  },
  {
   "cell_type": "code",
   "execution_count": 83,
   "metadata": {},
   "outputs": [],
   "source": [
    "# we will define a 2D array containing temperatures of each point.\n",
    "\n",
    "# initialising the varaibles\n",
    "\n",
    "x = 10\n",
    "y = 10\n",
    "dx = 0.1\n",
    "dy = 0.1\n",
    "D = 4\n",
    "xn = int(x / dx)\n",
    "yn = int(y / dy)\n",
    "time_iterations = 101\n",
    "\n",
    "# calculating the initial conditions\n",
    "\n",
    "t_array = np.empty([time_iterations, xn, yn])\n",
    "\n",
    "for i in range(xn):\n",
    "    for j in range(yn):\n",
    "        if (((i*dx) - 5)**2 + ((j*dy) - 5)**2 > 1):\n",
    "            t_array[0][i][j] = 300\n",
    "        else:\n",
    "            t_array[0][i][j] = 500\n",
    "\n",
    "# print(t_array[0][int(xn/2)])"
   ]
  },
  {
   "cell_type": "markdown",
   "metadata": {},
   "source": [
    "##### 1.2.5 (also in pdf) :"
   ]
  },
  {
   "cell_type": "code",
   "execution_count": 84,
   "metadata": {},
   "outputs": [],
   "source": [
    "dt = 0.01 / 4 * D # solved in pdf\n",
    "\n",
    "def next_t_array(t_array):\n",
    "    for x in range(time_iterations - 1):\n",
    "        for i in range(1, xn - 1):\n",
    "            for j in range(1, yn - 1):\n",
    "                t_array[x+1][i][j] = t_array[x][i][j] + (D*dt/(dx**2)) * (t_array[x][i+1][j] + t_array[x][i-1][j] + t_array[x][i][j+1] + t_array[x][i][j-1] - 4*t_array[x][i][j])\n",
    "\n",
    "    return t_array"
   ]
  },
  {
   "cell_type": "markdown",
   "metadata": {},
   "source": [
    "##### 1.2.6:"
   ]
  },
  {
   "cell_type": "code",
   "execution_count": 85,
   "metadata": {},
   "outputs": [
    {
     "name": "stderr",
     "output_type": "stream",
     "text": [
      "MovieWriter ffmpeg unavailable; using Pillow instead.\n"
     ]
    },
    {
     "name": "stdout",
     "output_type": "stream",
     "text": [
      "Done!\n"
     ]
    },
    {
     "data": {
      "image/png": "[encoded data removed]",
      "text/plain": [
       "<Figure size 432x288 with 2 Axes>"
      ]
     },
     "metadata": {
      "needs_background": "light"
     },
     "output_type": "display_data"
    }
   ],
   "source": [
    "plate_length = 100                  \n",
    "max_iter_time = 101\n",
    "disc_center_x = int(plate_length/2)\n",
    "disc_center_y = int(plate_length/2)\n",
    "\n",
    "D = 4\n",
    "delta_x = 1                     \n",
    "\n",
    "delta_t = (delta_x ** 2)/(4 * D)\n",
    "gamma = (D * delta_t) / (delta_x ** 2)\n",
    "\n",
    "u = np.empty((max_iter_time, plate_length, plate_length))\n",
    "\n",
    "u_initial = 300.0\n",
    "\n",
    "u_top = 300.0\n",
    "u_left = 300.0\n",
    "u_bottom = 300.0\n",
    "u_right = 300.0\n",
    "\n",
    "u.fill(u_initial)\n",
    "\n",
    "for i in range(1, plate_length-1, delta_x):\n",
    "    for j in range(1, plate_length-1, delta_x):\n",
    "        if((disc_center_x-i)*(disc_center_x-i)+(disc_center_y-j)*(disc_center_y-j)<400):\n",
    "            u[0][i][j] = 700\n",
    "\n",
    "\n",
    "def calculate(u):\n",
    "    for k in range(0, max_iter_time-1, 1):\n",
    "        # print(k)\n",
    "        for i in range(1, plate_length-1, delta_x):\n",
    "            for j in range(1, plate_length-1, delta_x):\n",
    "                u[k + 1, i, j] = gamma * (u[k][i+1][j] + u[k][i-1][j] + u[k][i][j+1] + u[k][i][j-1] - 4*u[k][i][j]) + u[k][i][j]\n",
    "\n",
    "    return u\n",
    "\n",
    "def plotheatmap(u_k, k):\n",
    "    plt.clf()\n",
    "\n",
    "    plt.title(f\"Temperature at t = {k*delta_t:.3f} unit time\")\n",
    "    plt.xlabel(\"x\")\n",
    "    plt.ylabel(\"y\")\n",
    "\n",
    "    # This is to plot u_k (u at time-step k)\n",
    "    plt.pcolormesh(u_k, cmap=plt.cm.jet, vmin=300, vmax=700)\n",
    "    plt.colorbar()\n",
    "\n",
    "    return plt\n",
    "\n",
    "u = calculate(u)\n",
    "\n",
    "\n",
    "def animate(k):\n",
    "    plotheatmap(u[k], k)\n",
    "\n",
    "anim = animation.FuncAnimation(plt.figure(), animate, interval=1, frames=max_iter_time, repeat=False)\n",
    "anim.save(\"heat_equation_solution.gif\")\n",
    "\n",
    "print(\"Done!\")"
   ]
  }
 ],
 "metadata": {
  "interpreter": {
   "hash": "916dbcbb3f70747c44a77c7bcd40155683ae19c65e1c03b4aa3499c5328201f1"
  },
  "kernelspec": {
   "display_name": "Python 3 (ipykernel)",
   "language": "python",
   "name": "python3"
  },
  "language_info": {
   "codemirror_mode": {
    "name": "ipython",
    "version": 3
   },
   "file_extension": ".py",
   "mimetype": "text/x-python",
   "name": "python",
   "nbconvert_exporter": "python",
   "pygments_lexer": "ipython3",
   "version": "3.8.10"
  }
 },
 "nbformat": 4,
 "nbformat_minor": 2
}
